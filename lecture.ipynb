{
 "cells": [
  {
   "cell_type": "markdown",
   "metadata": {
    "slideshow": {
     "slide_type": "slide"
    }
   },
   "source": [
    "# Programming with Python\n",
    "\n",
    "> Writing Conditional Statements with Python.\n",
    "\n",
    "Kuo, Yao-Jen <yaojenkuo@datainpoint.com> from [DATAINPOINT](https://www.datainpoint.com/)"
   ]
  },
  {
   "cell_type": "markdown",
   "metadata": {
    "slideshow": {
     "slide_type": "subslide"
    }
   },
   "source": [
    "## TL; DR\n",
    "\n",
    "> In this lecture, we will write conditional statements with Python."
   ]
  },
  {
   "cell_type": "markdown",
   "metadata": {
    "slideshow": {
     "slide_type": "subslide"
    }
   },
   "source": [
    "## We've previously mentioned that `bool` is quite useful in\n",
    "\n",
    "- **Conditional statement**.\n",
    "- Iteration.\n",
    "- Filtering data."
   ]
  },
  {
   "cell_type": "markdown",
   "metadata": {
    "slideshow": {
     "slide_type": "subslide"
    }
   },
   "source": [
    "## What is conditional statement?\n",
    "\n",
    "> In computer science, conditional statements are features of a programming language, which perform different computations or actions depending on whether a programmer-specified boolean condition evaluates to true or false.\n",
    "\n",
    "Source: <https://en.wikipedia.org/wiki/Conditional_(computer_programming)>"
   ]
  },
  {
   "cell_type": "markdown",
   "metadata": {
    "slideshow": {
     "slide_type": "subslide"
    }
   },
   "source": [
    "## Use condition and indentation to create a conditional statement.\n",
    "\n",
    "- A condition is an expression that can be evaluated as `bool`.\n",
    "- Indentation is necessary since Python does not use curly braces for code blocks."
   ]
  },
  {
   "cell_type": "markdown",
   "metadata": {
    "slideshow": {
     "slide_type": "subslide"
    }
   },
   "source": [
    "## Use relational or logical operators to produce `bool` for condition\n",
    "\n",
    "- `==`, `!=`, `>`, `<`, `>=`, `<=`, `in`, `not in`\n",
    "- `and`, `or`, `not`"
   ]
  },
  {
   "cell_type": "markdown",
   "metadata": {
    "slideshow": {
     "slide_type": "subslide"
    }
   },
   "source": [
    "## Most programming languages use curly braces `{ }` to define a block of code\n",
    "\n",
    "- Python, however, uses **indentation**.\n",
    "- A code block starts with indentation and ends with the first unindented line.\n",
    "- The amount of indentation is flexible, but it must be consistent throughout that block."
   ]
  },
  {
   "cell_type": "markdown",
   "metadata": {
    "slideshow": {
     "slide_type": "subslide"
    }
   },
   "source": [
    "## Use `if` for conditional statements\n",
    "\n",
    "```python\n",
    "if CONDITION:\n",
    "    # statements to be executed if CONDITION is evaluated as True.\n",
    "```"
   ]
  },
  {
   "cell_type": "code",
   "execution_count": 1,
   "metadata": {
    "slideshow": {
     "slide_type": "subslide"
    }
   },
   "outputs": [
    {
     "name": "stdout",
     "output_type": "stream",
     "text": [
      "5566 is positive.\n",
      "I am inside of a code block.\n"
     ]
    }
   ],
   "source": [
    "x = 5566\n",
    "if x >= 0:\n",
    "    print(\"{} is positive.\".format(x))\n",
    "    print(\"I am inside of a code block.\")"
   ]
  },
  {
   "cell_type": "markdown",
   "metadata": {
    "slideshow": {
     "slide_type": "subslide"
    }
   },
   "source": [
    "## Use `if` and `else` to perform alternative executions\n",
    "\n",
    "Since the condition must be true or false, exactly one of the alternatives will run.\n",
    "\n",
    "```python\n",
    "if CONDITION:\n",
    "    # statements to be executed if CONDITION is evaluated as True.\n",
    "else:\n",
    "    # statements to be executed if CONDITION is evaluated as False.\n",
    "```"
   ]
  },
  {
   "cell_type": "code",
   "execution_count": 2,
   "metadata": {
    "slideshow": {
     "slide_type": "-"
    }
   },
   "outputs": [
    {
     "name": "stdout",
     "output_type": "stream",
     "text": [
      "-5566 is negative.\n"
     ]
    }
   ],
   "source": [
    "x = -5566\n",
    "if x >= 0:\n",
    "    print(\"{} is positive.\".format(x))\n",
    "else:\n",
    "    print(\"{} is negative.\".format(x))"
   ]
  },
  {
   "cell_type": "markdown",
   "metadata": {
    "slideshow": {
     "slide_type": "subslide"
    }
   },
   "source": [
    "## Use `if`, `elif`, and `else` to perform chained conditionals\n",
    "\n",
    "The `else` clause makes our conditionals collectively exhaustive.\n",
    "\n",
    "```python\n",
    "if CONDITION_A:\n",
    "    # statements to be executed if CONDITION_A is evaluated as True.\n",
    "elif CONDITION_B:\n",
    "    # statements to be executed if CONDITION_B is evaluated as True.\n",
    "elif CONDITION_C:\n",
    "    # statements to be executed if CONDITION_C is evaluated as True.\n",
    "else:\n",
    "    # statements to be executed if CONDITION_A, CONDITION_B, and CONDITION_C are all evaluated as False.\n",
    "```"
   ]
  },
  {
   "cell_type": "code",
   "execution_count": 3,
   "metadata": {
    "slideshow": {
     "slide_type": "-"
    }
   },
   "outputs": [
    {
     "name": "stdout",
     "output_type": "stream",
     "text": [
      "The modulo of 66 divided by 3 is 0.\n"
     ]
    }
   ],
   "source": [
    "x = 66\n",
    "if x % 3 == 1:\n",
    "    print(\"The modulo of {} divided by 3 is 1.\".format(x))\n",
    "elif x % 3 == 2:\n",
    "    print(\"The modulo of {} divided by 3 is 2.\".format(x))\n",
    "else:\n",
    "    print(\"The modulo of {} divided by 3 is 0.\".format(x))"
   ]
  },
  {
   "cell_type": "markdown",
   "metadata": {
    "slideshow": {
     "slide_type": "subslide"
    }
   },
   "source": [
    "## We can break down alternative/chained conditionals once our conditions are mutually exclusive"
   ]
  },
  {
   "cell_type": "code",
   "execution_count": 4,
   "metadata": {},
   "outputs": [
    {
     "name": "stdout",
     "output_type": "stream",
     "text": [
      "The modulo of 66 divided by 3 is 0.\n"
     ]
    }
   ],
   "source": [
    "x = 66\n",
    "if x % 3 == 1:\n",
    "    print(\"The modulo of {} divided by 3 is 1.\".format(x))\n",
    "if x % 3 == 2:\n",
    "    print(\"The modulo of {} divided by 3 is 2.\".format(x))\n",
    "if x % 3 == 0:\n",
    "    print(\"The modulo of {} divided by 3 is 0.\".format(x))"
   ]
  },
  {
   "cell_type": "markdown",
   "metadata": {
    "slideshow": {
     "slide_type": "subslide"
    }
   },
   "source": [
    "## We can also nest conditionals within other conditionals"
   ]
  },
  {
   "cell_type": "code",
   "execution_count": 5,
   "metadata": {},
   "outputs": [
    {
     "name": "stdout",
     "output_type": "stream",
     "text": [
      "The modulo of 66 divided by 3 is 0.\n"
     ]
    }
   ],
   "source": [
    "x = 66\n",
    "if x % 3 == 1:\n",
    "    print(\"The modulo of {} divided by 3 is 1.\".format(x))\n",
    "else:\n",
    "    if x % 3 == 2:\n",
    "        print(\"The modulo of {} divided by 3 is 2.\".format(x))\n",
    "    else:\n",
    "        print(\"The modulo of {} divided by 3 is 0.\".format(x))"
   ]
  },
  {
   "cell_type": "markdown",
   "metadata": {
    "slideshow": {
     "slide_type": "subslide"
    }
   },
   "source": [
    "## If conditions are NOT mutually exclusive in a chained condition\n",
    "\n",
    "- Still, exactly one of the alternatives will run.\n",
    "- But order matters."
   ]
  },
  {
   "cell_type": "markdown",
   "metadata": {
    "slideshow": {
     "slide_type": "subslide"
    }
   },
   "source": [
    "## Take the famous `FizzBuzz` for example\n",
    "\n",
    "Fizz buzz (often spelled FizzBuzz in this context) has been used as an interview screening device for computer programmers. Writing a program to output the first 100 FizzBuzz numbers is a trivial problem for any would-be computer programmer, so interviewers can easily filter out those with insufficient programming ability.\n",
    "\n",
    "Source: <https://en.wikipedia.org/wiki/Fizz_buzz>"
   ]
  },
  {
   "cell_type": "code",
   "execution_count": 6,
   "metadata": {},
   "outputs": [
    {
     "name": "stdout",
     "output_type": "stream",
     "text": [
      "Fizz Buzz\n"
     ]
    }
   ],
   "source": [
    "x = 15\n",
    "if x % 15 == 0:\n",
    "    print(\"Fizz Buzz\")\n",
    "elif x % 3 == 0:\n",
    "    print(\"Fizz\")\n",
    "elif x % 5 == 0:\n",
    "    print(\"Buzz\")"
   ]
  }
 ],
 "metadata": {
  "celltoolbar": "Slideshow",
  "kernelspec": {
   "display_name": "Python Data Analysis",
   "language": "python",
   "name": "pyda"
  },
  "language_info": {
   "codemirror_mode": {
    "name": "ipython",
    "version": 3
   },
   "file_extension": ".py",
   "mimetype": "text/x-python",
   "name": "python",
   "nbconvert_exporter": "python",
   "pygments_lexer": "ipython3",
   "version": "3.6.8"
  }
 },
 "nbformat": 4,
 "nbformat_minor": 4
}
